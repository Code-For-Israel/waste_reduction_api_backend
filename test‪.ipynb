{
 "cells": [
  {
   "cell_type": "code",
   "execution_count": 35,
   "metadata": {},
   "outputs": [],
   "source": [
    "from db_setting import Track, db\n",
    "import requests, json, time\n",
    "import json\n",
    "from datetime import datetime\n",
    "BASE = \"http://localhost:5000/\"\n"
   ]
  },
  {
   "cell_type": "code",
   "execution_count": 45,
   "metadata": {},
   "outputs": [
    {
     "name": "stdout",
     "output_type": "stream",
     "text": [
      "{'detection_results': {'bboxs': [0.41, 0.621, 0.62, 0.78], 'classes': ['other'], 'probabilities': [0.983]}, 'image_id': 'img00010000351_07_02_2022T15_16_52'}\n"
     ]
    }
   ],
   "source": [
    "data = {\n",
    "        \"image_id\" : \"img00010000351_07_02_2022T15_16_52\",\n",
    "        \"detection_results\":json.loads('{\"classes\": [\"other\"],\"probabilities\": [0.983],\"bboxs\": [0.41, 0.621, 0.62, 0.78]}')           \n",
    "        }\n",
    "\n",
    "# parse x:\n",
    "# y = json.loads(str(data))\n",
    "\n",
    "response = requests.post(BASE, json=data)\n",
    "\n",
    "\n",
    "print(response.json()) # Be infornation\n"
   ]
  },
  {
   "cell_type": "code",
   "execution_count": 17,
   "metadata": {},
   "outputs": [
    {
     "name": "stdout",
     "output_type": "stream",
     "text": [
      "{'tfbfjjag1': 'value1', 'tag2': 'value2'}\n"
     ]
    }
   ],
   "source": [
    "for track in Track.query.all():\n",
    "    print(track.image_data)"
   ]
  }
 ],
 "metadata": {
  "kernelspec": {
   "display_name": "Python 3.10.4 ('microapp')",
   "language": "python",
   "name": "python3"
  },
  "language_info": {
   "codemirror_mode": {
    "name": "ipython",
    "version": 3
   },
   "file_extension": ".py",
   "mimetype": "text/x-python",
   "name": "python",
   "nbconvert_exporter": "python",
   "pygments_lexer": "ipython3",
   "version": "3.10.4"
  },
  "orig_nbformat": 4,
  "vscode": {
   "interpreter": {
    "hash": "7a035f4b54bf32b31b805543d41f206f80144b50020a55e32d0285238f1c5b5b"
   }
  }
 },
 "nbformat": 4,
 "nbformat_minor": 2
}
