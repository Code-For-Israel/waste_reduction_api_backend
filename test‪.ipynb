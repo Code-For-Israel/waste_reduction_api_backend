{
 "cells": [
  {
   "cell_type": "code",
   "execution_count": null,
   "metadata": {},
   "outputs": [],
   "source": [
    "import requests, json, time\n",
    "from datetime import datetime\n",
    "BASE = \"http://localhost:5000/\"\n"
   ]
  },
  {
   "cell_type": "code",
   "execution_count": null,
   "metadata": {},
   "outputs": [],
   "source": [
    "details = '''{\n",
    "    \"image_id\": \"image00000001D11_11_2022T14_55_29\",\n",
    "    \"detections_result\":{\n",
    "        \"classes\": [\"other\",\"cover\"],\n",
    "        \"probabilities\": [0.9999999999999999, 0.5],\n",
    "        \"bbox_cx_cy_w_h\": [[0.5, 0.5, 0.5, 0.5], [0.5, 0.5, 0.5, 0.5]] \n",
    "        }\n",
    "    }'''\n",
    "print(type(details))\n",
    "details = json.loads(details)\n",
    "print(type(details))\n",
    "data = json.dumps(details)\n",
    "print(type(details))\n",
    "\n",
    "response = requests.post(BASE, json=data)\n"
   ]
  },
  {
   "cell_type": "code",
   "execution_count": null,
   "metadata": {},
   "outputs": [],
   "source": [
    "for track in Track.query.all():\n",
    "    print(track.image_data)"
   ]
  }
 ],
 "metadata": {
  "kernelspec": {
   "display_name": "Python 3.10.4 ('microapp')",
   "language": "python",
   "name": "python3"
  },
  "language_info": {
   "codemirror_mode": {
    "name": "ipython",
    "version": 3
   },
   "file_extension": ".py",
   "mimetype": "text/x-python",
   "name": "python",
   "nbconvert_exporter": "python",
   "pygments_lexer": "ipython3",
   "version": "3.10.4"
  },
  "orig_nbformat": 4,
  "vscode": {
   "interpreter": {
    "hash": "7a035f4b54bf32b31b805543d41f206f80144b50020a55e32d0285238f1c5b5b"
   }
  }
 },
 "nbformat": 4,
 "nbformat_minor": 2
}
