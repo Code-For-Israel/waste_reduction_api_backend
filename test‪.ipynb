{
 "cells": [
  {
   "cell_type": "code",
   "execution_count": null,
   "metadata": {},
   "outputs": [],
   "source": [
    "import requests, json, time\n",
    "from datetime import datetime\n",
    "BASE = \"http://localhost:5000/\"\n"
   ]
  },
  {
   "cell_type": "code",
   "execution_count": 109,
   "metadata": {},
   "outputs": [
    {
     "name": "stdout",
     "output_type": "stream",
     "text": [
      "<class 'str'>\n",
      "<class 'dict'>\n",
      "<class 'dict'>\n"
     ]
    }
   ],
   "source": [
    "details = '''{\n",
    "    \"image_id\": \"image00000001D11_11_2022T14_55_29\",\n",
    "    \"detections_result\":{\n",
    "        \"classes\": [\"other\",\"cover\"],\n",
    "        \"probabilities\": [0.9999999999999999, 0.5],\n",
    "        \"bbox_cx_cy_w_h\": [[0.5, 0.5, 0.5, 0.5], [0.5, 0.5, 0.5, 0.5]] \n",
    "        }\n",
    "    }'''\n",
    "print(type(details))\n",
    "details = json.loads(details)\n",
    "print(type(details))\n",
    "data = json.dumps(details)\n",
    "print(type(details))\n",
    "\n",
    "response = requests.post(BASE, json=data)\n"
   ]
  },
  {
   "cell_type": "code",
   "execution_count": null,
   "metadata": {},
   "outputs": [],
   "source": [
    "\n",
    "f = open('test.json')\n",
    "  \n",
    "# returns JSON object as \n",
    "# a dictionary\n",
    "data = json.load(f)\n",
    "\n",
    "response = requests.post(BASE, json=data)\n",
    "\n",
    "print(response.json()) # Be infornation\n"
   ]
  },
  {
   "cell_type": "code",
   "execution_count": null,
   "metadata": {},
   "outputs": [],
   "source": [
    "for track in Track.query.all():\n",
    "    print(track.image_data)"
   ]
  },
  {
   "cell_type": "code",
   "execution_count": 105,
   "metadata": {},
   "outputs": [
    {
     "name": "stdout",
     "output_type": "stream",
     "text": [
      "<class 'str'>\n",
      "<class 'dict'>\n"
     ]
    }
   ],
   "source": [
    "details = '''{\n",
    "    \"image_id\": \"image00000001D11_11_2022T15_55_29\",\n",
    "    \"detections_result\":{\n",
    "        \"classes\": [\"other\",\"cover\"],\n",
    "        \"probabilities\": [0.9999999999999999, 0.5],\n",
    "        \"bbox_cx_cy_w_h\": [[0.5, 0.5, 0.5, 0.5], [0.5, 0.5, 0.5, 0.5]] \n",
    "        }\n",
    "    }'''\n",
    "print(type(details))\n",
    "details = json.loads(details)\n",
    "print(type(details))\n",
    "details = json.dumps(details)\n",
    "\n"
   ]
  },
  {
   "cell_type": "code",
   "execution_count": 107,
   "metadata": {},
   "outputs": [
    {
     "name": "stdout",
     "output_type": "stream",
     "text": [
      "**************************************\n",
      "\n",
      "\n",
      "[['other', 0.9999999999999999, 0.5, 0.5, 0.5, 0.5], ['cover', 0.5, 0.5, 0.5, 0.5, 0.5]]\n",
      "**************************************\n",
      "\n",
      "\n",
      "image00000001D11 2022-11-11 15:55:29 [['other', 0.9999999999999999, 0.5, 0.5, 0.5, 0.5], ['cover', 0.5, 0.5, 0.5, 0.5, 0.5]]\n"
     ]
    }
   ],
   "source": [
    "import re\n",
    "def parsing_name_date_time(image_data: str):\n",
    "    splited_data = image_data.split('T')\n",
    "    camera_id_date, time_data = splited_data[0], splited_data[1]\n",
    "    camera_id = camera_id_date[:camera_id_date.index(\"_\")]\n",
    "    match_str = re.search(r'\\d{2}_\\d{2}_\\d{4}', camera_id_date)\n",
    "    match_str = match_str.group() +\" \"+ time_data\n",
    "    datetime_object = datetime.strptime(match_str, \"%d_%m_%Y %H_%M_%S\")\n",
    "    return camera_id, datetime_object\n",
    "\n",
    "def parsing_detection_data(detections):\n",
    "    detection_list = []\n",
    "    for i in range(len(detections['classes'])):\n",
    "        detection_list.append([detections['classes'][i], detections['probabilities'][i], *detections['bbox_cx_cy_w_h'][i]])\n",
    "    print(\"**************************************\")\n",
    "    print(\"\\n\")\n",
    "    \n",
    "    print(detection_list)\n",
    "    print(\"**************************************\")\n",
    "    print(\"\\n\")\n",
    "    return detection_list\n",
    "\n",
    "def parsing_data_for_db(details):\n",
    "    details = json.loads(details)\n",
    "    camera_id, detection_time = parsing_name_date_time(details['image_id'])\n",
    "    detections_list = parsing_detection_data(details['detections_result'])\n",
    "    return camera_id, detection_time, detections_list\n",
    "   \n",
    "   \n",
    "\n",
    "camera_id, detection_time, detections_list = parsing_data_for_db(details)\n",
    "print(camera_id, detection_time, detections_list)\n",
    "\n"
   ]
  },
  {
   "cell_type": "code",
   "execution_count": 103,
   "metadata": {},
   "outputs": [
    {
     "name": "stdout",
     "output_type": "stream",
     "text": [
      "The original string is : image00000001D11_11_2022\n"
     ]
    },
    {
     "ename": "ValueError",
     "evalue": "'T' is a bad directive in format '%d_%m_%Y%TH_%M_%S'",
     "output_type": "error",
     "traceback": [
      "\u001b[1;31m---------------------------------------------------------------------------\u001b[0m",
      "\u001b[1;31mValueError\u001b[0m                                Traceback (most recent call last)",
      "\u001b[1;32mc:\\Project\\Python\\micro_app\\test‪.ipynb Cell 7\u001b[0m in \u001b[0;36m<module>\u001b[1;34m\u001b[0m\n\u001b[0;32m     <a href='vscode-notebook-cell:/c%3A/Project/Python/micro_app/test%E2%80%AA.ipynb#W4sZmlsZQ%3D%3D?line=12'>13</a>\u001b[0m match_str \u001b[39m=\u001b[39m match_str\u001b[39m.\u001b[39mgroup()\u001b[39m+\u001b[39m\u001b[39m\"\u001b[39m\u001b[39m \u001b[39m\u001b[39m\"\u001b[39m\u001b[39m+\u001b[39m\u001b[39m\"\u001b[39m\u001b[39m15_55_29\u001b[39m\u001b[39m\"\u001b[39m\n\u001b[0;32m     <a href='vscode-notebook-cell:/c%3A/Project/Python/micro_app/test%E2%80%AA.ipynb#W4sZmlsZQ%3D%3D?line=13'>14</a>\u001b[0m \u001b[39m# computed date\u001b[39;00m\n\u001b[0;32m     <a href='vscode-notebook-cell:/c%3A/Project/Python/micro_app/test%E2%80%AA.ipynb#W4sZmlsZQ%3D%3D?line=14'>15</a>\u001b[0m \u001b[39m# feeding format\u001b[39;00m\n\u001b[1;32m---> <a href='vscode-notebook-cell:/c%3A/Project/Python/micro_app/test%E2%80%AA.ipynb#W4sZmlsZQ%3D%3D?line=15'>16</a>\u001b[0m res \u001b[39m=\u001b[39m datetime\u001b[39m.\u001b[39;49mstrptime(\u001b[39m\"\u001b[39;49m\u001b[39mimage00000001D11_11_2022T15_55_29\u001b[39;49m\u001b[39m\"\u001b[39;49m, \u001b[39m'\u001b[39;49m\u001b[39m%d\u001b[39;49;00m\u001b[39m_\u001b[39;49m\u001b[39m%\u001b[39;49m\u001b[39mm_\u001b[39;49m\u001b[39m%\u001b[39;49m\u001b[39mY\u001b[39;49m\u001b[39m%\u001b[39;49m\u001b[39mTH_\u001b[39;49m\u001b[39m%\u001b[39;49m\u001b[39mM_\u001b[39;49m\u001b[39m%\u001b[39;49m\u001b[39mS\u001b[39;49m\u001b[39m'\u001b[39;49m)\n\u001b[0;32m     <a href='vscode-notebook-cell:/c%3A/Project/Python/micro_app/test%E2%80%AA.ipynb#W4sZmlsZQ%3D%3D?line=17'>18</a>\u001b[0m \u001b[39m# printing result\u001b[39;00m\n\u001b[0;32m     <a href='vscode-notebook-cell:/c%3A/Project/Python/micro_app/test%E2%80%AA.ipynb#W4sZmlsZQ%3D%3D?line=18'>19</a>\u001b[0m res\n",
      "File \u001b[1;32mc:\\Users\\yair2\\anaconda3\\envs\\microapp\\lib\\_strptime.py:568\u001b[0m, in \u001b[0;36m_strptime_datetime\u001b[1;34m(cls, data_string, format)\u001b[0m\n\u001b[0;32m    565\u001b[0m \u001b[39mdef\u001b[39;00m \u001b[39m_strptime_datetime\u001b[39m(\u001b[39mcls\u001b[39m, data_string, \u001b[39mformat\u001b[39m\u001b[39m=\u001b[39m\u001b[39m\"\u001b[39m\u001b[39m%a\u001b[39;00m\u001b[39m \u001b[39m\u001b[39m%\u001b[39m\u001b[39mb \u001b[39m\u001b[39m%d\u001b[39;00m\u001b[39m \u001b[39m\u001b[39m%\u001b[39m\u001b[39mH:\u001b[39m\u001b[39m%\u001b[39m\u001b[39mM:\u001b[39m\u001b[39m%\u001b[39m\u001b[39mS \u001b[39m\u001b[39m%\u001b[39m\u001b[39mY\u001b[39m\u001b[39m\"\u001b[39m):\n\u001b[0;32m    566\u001b[0m     \u001b[39m\"\"\"Return a class cls instance based on the input string and the\u001b[39;00m\n\u001b[0;32m    567\u001b[0m \u001b[39m    format string.\"\"\"\u001b[39;00m\n\u001b[1;32m--> 568\u001b[0m     tt, fraction, gmtoff_fraction \u001b[39m=\u001b[39m _strptime(data_string, \u001b[39mformat\u001b[39;49m)\n\u001b[0;32m    569\u001b[0m     tzname, gmtoff \u001b[39m=\u001b[39m tt[\u001b[39m-\u001b[39m\u001b[39m2\u001b[39m:]\n\u001b[0;32m    570\u001b[0m     args \u001b[39m=\u001b[39m tt[:\u001b[39m6\u001b[39m] \u001b[39m+\u001b[39m (fraction,)\n",
      "File \u001b[1;32mc:\\Users\\yair2\\anaconda3\\envs\\microapp\\lib\\_strptime.py:341\u001b[0m, in \u001b[0;36m_strptime\u001b[1;34m(data_string, format)\u001b[0m\n\u001b[0;32m    339\u001b[0m         bad_directive \u001b[39m=\u001b[39m \u001b[39m\"\u001b[39m\u001b[39m%\u001b[39m\u001b[39m\"\u001b[39m\n\u001b[0;32m    340\u001b[0m     \u001b[39mdel\u001b[39;00m err\n\u001b[1;32m--> 341\u001b[0m     \u001b[39mraise\u001b[39;00m \u001b[39mValueError\u001b[39;00m(\u001b[39m\"\u001b[39m\u001b[39m'\u001b[39m\u001b[39m%s\u001b[39;00m\u001b[39m'\u001b[39m\u001b[39m is a bad directive in format \u001b[39m\u001b[39m'\u001b[39m\u001b[39m%s\u001b[39;00m\u001b[39m'\u001b[39m\u001b[39m\"\u001b[39m \u001b[39m%\u001b[39m\n\u001b[0;32m    342\u001b[0m                         (bad_directive, \u001b[39mformat\u001b[39m)) \u001b[39mfrom\u001b[39;00m \u001b[39mNone\u001b[39m\n\u001b[0;32m    343\u001b[0m \u001b[39m# IndexError only occurs when the format string is \"%\"\u001b[39;00m\n\u001b[0;32m    344\u001b[0m \u001b[39mexcept\u001b[39;00m \u001b[39mIndexError\u001b[39;00m:\n",
      "\u001b[1;31mValueError\u001b[0m: 'T' is a bad directive in format '%d_%m_%Y%TH_%M_%S'"
     ]
    }
   ],
   "source": [
    "import re, time\n",
    "from datetime import datetime\n",
    "  \n",
    "# initializing string\n",
    "test_str = \"image00000001D11_11_2022\"\n",
    "  \n",
    "# printing original string\n",
    "print(\"The original string is : \" + str(test_str))\n",
    "  \n",
    "# searching string\n",
    "match_str = re.search(r'\\d{2}_\\d{2}_\\d{4}', test_str)\n",
    "\n",
    "match_str = match_str.group()+\" \"+\"15_55_29\"\n",
    "# computed date\n",
    "# feeding format\n",
    "res = datetime.strptime(\"image00000001D11_11_2022T15_55_29\", '%d_%m_%Y% H_%M_%S')\n",
    "  \n",
    "# printing result\n",
    "res"
   ]
  },
  {
   "cell_type": "code",
   "execution_count": 92,
   "metadata": {},
   "outputs": [
    {
     "data": {
      "text/plain": [
       "time.struct_time(tm_year=1900, tm_mon=1, tm_mday=1, tm_hour=15, tm_min=55, tm_sec=29, tm_wday=0, tm_yday=1, tm_isdst=-1)"
      ]
     },
     "execution_count": 92,
     "metadata": {},
     "output_type": "execute_result"
    }
   ],
   "source": [
    "d = \"15_55_29\"\n",
    "\n",
    "struct_time = time.strptime(d, \"%H_%M_%S\")\n",
    "struct_time"
   ]
  },
  {
   "cell_type": "code",
   "execution_count": null,
   "metadata": {},
   "outputs": [],
   "source": []
  }
 ],
 "metadata": {
  "kernelspec": {
   "display_name": "Python 3.10.4 ('microapp')",
   "language": "python",
   "name": "python3"
  },
  "language_info": {
   "codemirror_mode": {
    "name": "ipython",
    "version": 3
   },
   "file_extension": ".py",
   "mimetype": "text/x-python",
   "name": "python",
   "nbconvert_exporter": "python",
   "pygments_lexer": "ipython3",
   "version": "3.10.4"
  },
  "orig_nbformat": 4,
  "vscode": {
   "interpreter": {
    "hash": "7a035f4b54bf32b31b805543d41f206f80144b50020a55e32d0285238f1c5b5b"
   }
  }
 },
 "nbformat": 4,
 "nbformat_minor": 2
}
