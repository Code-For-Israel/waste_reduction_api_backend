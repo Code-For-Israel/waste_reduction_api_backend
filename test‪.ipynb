{
 "cells": [
  {
   "cell_type": "code",
   "execution_count": 1,
   "metadata": {},
   "outputs": [
    {
     "name": "stderr",
     "output_type": "stream",
     "text": [
      "c:\\Users\\yair2\\anaconda3\\envs\\microapp\\lib\\site-packages\\flask_sqlalchemy\\__init__.py:851: UserWarning: Neither SQLALCHEMY_DATABASE_URI nor SQLALCHEMY_BINDS is set. Defaulting SQLALCHEMY_DATABASE_URI to \"sqlite:///:memory:\".\n",
      "  warnings.warn(\n",
      "c:\\Users\\yair2\\anaconda3\\envs\\microapp\\lib\\site-packages\\flask_sqlalchemy\\__init__.py:872: FSADeprecationWarning: SQLALCHEMY_TRACK_MODIFICATIONS adds significant overhead and will be disabled by default in the future.  Set it to True or False to suppress this warning.\n",
      "  warnings.warn(FSADeprecationWarning(\n"
     ]
    }
   ],
   "source": [
    "from db_setting import Track, db\n",
    "import requests, json, time\n",
    "from datetime import datetime\n",
    "BASE = \"http://localhost:5000/\"\n"
   ]
  },
  {
   "cell_type": "code",
   "execution_count": 40,
   "metadata": {},
   "outputs": [
    {
     "name": "stdout",
     "output_type": "stream",
     "text": [
      "{'image_id': 'img00010000351_07_02_2022T15_16_52'}\n"
     ]
    }
   ],
   "source": [
    "data = '{\"image_id\" : \"img00010000351_07_02_2022T15_16_52\"}'\n",
    "\n",
    "# parse x:\n",
    "# y = json.loads(str(data))\n",
    "\n",
    "response = requests.post(BASE, json=json.loads(data))\n",
    "\n",
    "\n",
    "print(response.json()) # Be infornation\n"
   ]
  },
  {
   "cell_type": "code",
   "execution_count": 41,
   "metadata": {},
   "outputs": [
    {
     "name": "stdout",
     "output_type": "stream",
     "text": [
      "None\n",
      "None\n",
      "None\n",
      "None\n",
      "None\n",
      "None\n",
      "None\n",
      "None\n",
      "None\n",
      "None\n",
      "None\n",
      "None\n",
      "None\n",
      "None\n",
      "None\n",
      "None\n"
     ]
    }
   ],
   "source": [
    "for track in Track.query.all():\n",
    "    print(track.image_data)"
   ]
  },
  {
   "cell_type": "code",
   "execution_count": 42,
   "metadata": {},
   "outputs": [
    {
     "data": {
      "text/plain": [
       "str"
      ]
     },
     "execution_count": 42,
     "metadata": {},
     "output_type": "execute_result"
    }
   ],
   "source": [
    "type(json.dumps(['foo', {'bar': ('baz', None, 1.0, 2)}]))"
   ]
  },
  {
   "cell_type": "code",
   "execution_count": null,
   "metadata": {},
   "outputs": [],
   "source": [
    ",\n",
    "        \"detection_results\":{\"classes\": [\"other\"],\"probabilities\": [0.983],\"bboxs\": [[0.41, 0.621, 0.62, 0.78]]"
   ]
  }
 ],
 "metadata": {
  "kernelspec": {
   "display_name": "Python 3.10.4 ('microapp')",
   "language": "python",
   "name": "python3"
  },
  "language_info": {
   "codemirror_mode": {
    "name": "ipython",
    "version": 3
   },
   "file_extension": ".py",
   "mimetype": "text/x-python",
   "name": "python",
   "nbconvert_exporter": "python",
   "pygments_lexer": "ipython3",
   "version": "3.10.4"
  },
  "orig_nbformat": 4,
  "vscode": {
   "interpreter": {
    "hash": "7a035f4b54bf32b31b805543d41f206f80144b50020a55e32d0285238f1c5b5b"
   }
  }
 },
 "nbformat": 4,
 "nbformat_minor": 2
}
