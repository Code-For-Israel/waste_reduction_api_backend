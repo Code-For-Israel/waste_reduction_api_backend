{
 "cells": [
  {
   "cell_type": "code",
   "execution_count": 87,
   "metadata": {},
   "outputs": [],
   "source": [
    "import requests, json, time\n",
    "from datetime import datetime\n",
    "BASE = \"http://localhost:5000/\"\n",
    "details = '''{\n",
    "  \"object_detection_data\": [\n",
    "    {\n",
    "      \"image_id\": \"img00030000004_13_12_2022T09_48_29\",\n",
    "      \"camera_name\": \"שדרות רוקח קקל תל אביב\",\n",
    "      \"detection_results\": \"no_detections\",\n",
    "      \"s3_uri\": \"s3://waste-reduction/img00030000004_13_12_2022T09_48_29.jpg\"\n",
    "    },\n",
    "    {\n",
    "      \"image_id\": \"img00050000004_13_12_2022T09_48_29\",\n",
    "      \"camera_name\": \"צומת העגלה מי שמכיר מכיר \",\n",
    "      \"detection_results\": {\n",
    "        \"classes\": [\n",
    "          \"uncover\", \"other\", \"cover\"\n",
    "        ],\n",
    "        \"probabilities\": [\n",
    "          0.62, 0.8, 0.45\n",
    "        ],\n",
    "        \"bboxs_cx_cy_w_h_fractional\": [\n",
    "          [\n",
    "            0.444,\n",
    "            0.976,\n",
    "            0.3333,\n",
    "            0.555544\n",
    "          ],[\n",
    "            0.3,\n",
    "            0.4,\n",
    "            0.55,\n",
    "            0.5\n",
    "          ],[\n",
    "            0.7,\n",
    "            0.9,\n",
    "            0.4,\n",
    "            0.5\n",
    "          ]\n",
    "        ]\n",
    "      },\n",
    "      \"s3_uri\": \"s3://waste-reduction/img00050000004_13_12_2022T09_48_29.jpg\"\n",
    "    },\n",
    "    \n",
    "    {\n",
    "      \"image_id\": \"img00040000004_13_12_2022T09_48_29\",\n",
    "      \"camera_name\": \"איילון השלום תל אביב\",\n",
    "      \"detection_results\": \"no_detections\",\n",
    "      \"s3_uri\": \"s3://waste-reduction/img00040000004_13_12_2022T09_48_29.jpg\"\n",
    "    },\n",
    "    {\n",
    "      \"image_id\": \"img00050000004_13_12_2022T09_48_29\",\n",
    "      \"camera_name\": \"ארלוזורוב לדרום תל אביב\",\n",
    "      \"detection_results\": {\n",
    "        \"classes\": [\n",
    "          \"other\", \"cover\"\n",
    "        ],\n",
    "        \"probabilities\": [\n",
    "          0.3539397716522217, 0.8\n",
    "        ],\n",
    "        \"bboxs_cx_cy_w_h_fractional\": [\n",
    "          [\n",
    "            0.06367187201976776,\n",
    "            0.15069444477558136,\n",
    "            0.12734374403953552,\n",
    "            0.2597222328186035\n",
    "          ],[\n",
    "            0.7,\n",
    "            0.9,\n",
    "            0.4,\n",
    "            0.5\n",
    "          ]\n",
    "        ]\n",
    "      },\n",
    "      \"s3_uri\": \"s3://waste-reduction/img00050000004_13_12_2022T09_48_29.jpg\"\n",
    "    }\n",
    "  ]\n",
    "}'''\n"
   ]
  },
  {
   "cell_type": "code",
   "execution_count": 88,
   "metadata": {},
   "outputs": [
    {
     "name": "stdout",
     "output_type": "stream",
     "text": [
      "<class 'str'>\n"
     ]
    },
    {
     "data": {
      "text/plain": [
       "dict"
      ]
     },
     "execution_count": 88,
     "metadata": {},
     "output_type": "execute_result"
    }
   ],
   "source": [
    "print(type(details))\n",
    "\n",
    "response = requests.post(BASE, json=details)\n",
    "details_dict = json.loads(details)\n",
    "type(details_dict)"
   ]
  }
 ],
 "metadata": {
  "kernelspec": {
   "display_name": "microapp",
   "language": "python",
   "name": "python3"
  },
  "language_info": {
   "codemirror_mode": {
    "name": "ipython",
    "version": 3
   },
   "file_extension": ".py",
   "mimetype": "text/x-python",
   "name": "python",
   "nbconvert_exporter": "python",
   "pygments_lexer": "ipython3",
   "version": "3.10.4"
  },
  "orig_nbformat": 4,
  "vscode": {
   "interpreter": {
    "hash": "7a035f4b54bf32b31b805543d41f206f80144b50020a55e32d0285238f1c5b5b"
   }
  }
 },
 "nbformat": 4,
 "nbformat_minor": 2
}
